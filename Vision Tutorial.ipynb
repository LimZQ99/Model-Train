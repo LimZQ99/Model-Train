{
 "cells": [
  {
   "cell_type": "markdown",
   "metadata": {},
   "source": [
    "Check Graphic-card details"
   ]
  },
  {
   "cell_type": "code",
   "execution_count": 1,
   "metadata": {},
   "outputs": [
    {
     "name": "stdout",
     "output_type": "stream",
     "text": [
      "Fri Aug 23 11:05:11 2024       \n",
      "+-----------------------------------------------------------------------------------------+\n",
      "| NVIDIA-SMI 551.61                 Driver Version: 551.61         CUDA Version: 12.4     |\n",
      "|-----------------------------------------+------------------------+----------------------+\n",
      "| GPU  Name                     TCC/WDDM  | Bus-Id          Disp.A | Volatile Uncorr. ECC |\n",
      "| Fan  Temp   Perf          Pwr:Usage/Cap |           Memory-Usage | GPU-Util  Compute M. |\n",
      "|                                         |                        |               MIG M. |\n",
      "|=========================================+========================+======================|\n",
      "|   0  NVIDIA GeForce GTX 1650      WDDM  |   00000000:01:00.0 Off |                  N/A |\n",
      "| N/A   36C    P8              4W /   85W |       0MiB /   4096MiB |      0%      Default |\n",
      "|                                         |                        |                  N/A |\n",
      "+-----------------------------------------+------------------------+----------------------+\n",
      "                                                                                         \n",
      "+-----------------------------------------------------------------------------------------+\n",
      "| Processes:                                                                              |\n",
      "|  GPU   GI   CI        PID   Type   Process name                              GPU Memory |\n",
      "|        ID   ID                                                               Usage      |\n",
      "|=========================================================================================|\n",
      "|  No running processes found                                                             |\n",
      "+-----------------------------------------------------------------------------------------+\n"
     ]
    }
   ],
   "source": [
    "!nvidia-smi"
   ]
  },
  {
   "cell_type": "markdown",
   "metadata": {},
   "source": [
    "Install torch 2.3.1, tochvision 0.18.1 and torchaudio 2.3.1"
   ]
  },
  {
   "cell_type": "code",
   "execution_count": 2,
   "metadata": {},
   "outputs": [
    {
     "name": "stdout",
     "output_type": "stream",
     "text": [
      "Looking in indexes: https://download.pytorch.org/whl/cu121\n",
      "Collecting torch==2.3.1\n",
      "  Downloading https://download.pytorch.org/whl/cu121/torch-2.3.1%2Bcu121-cp310-cp310-win_amd64.whl (2423.5 MB)\n",
      "     ---------------------------------------- 0.0/2.4 GB ? eta -:--:--\n",
      "     ---------------------------------------- 0.0/2.4 GB 48.7 MB/s eta 0:00:50\n",
      "     ---------------------------------------- 0.0/2.4 GB 50.2 MB/s eta 0:00:48\n",
      "     ---------------------------------------- 0.0/2.4 GB 51.7 MB/s eta 0:00:47\n",
      "      --------------------------------------- 0.0/2.4 GB 55.4 MB/s eta 0:00:43\n",
      "      --------------------------------------- 0.1/2.4 GB 59.0 MB/s eta 0:00:41\n",
      "     - -------------------------------------- 0.1/2.4 GB 60.9 MB/s eta 0:00:39\n",
      "     - -------------------------------------- 0.1/2.4 GB 61.3 MB/s eta 0:00:39\n",
      "     - -------------------------------------- 0.1/2.4 GB 62.4 MB/s eta 0:00:38\n",
      "     - -------------------------------------- 0.1/2.4 GB 62.3 MB/s eta 0:00:38\n",
      "     -- ------------------------------------- 0.1/2.4 GB 63.0 MB/s eta 0:00:37\n",
      "     -- ------------------------------------- 0.1/2.4 GB 63.3 MB/s eta 0:00:37\n",
      "     -- ------------------------------------- 0.2/2.4 GB 63.3 MB/s eta 0:00:36\n",
      "     -- ------------------------------------- 0.2/2.4 GB 62.9 MB/s eta 0:00:36\n",
      "     -- ------------------------------------- 0.2/2.4 GB 63.5 MB/s eta 0:00:36\n",
      "     --- ------------------------------------ 0.2/2.4 GB 63.6 MB/s eta 0:00:36\n",
      "     --- ------------------------------------ 0.2/2.4 GB 64.0 MB/s eta 0:00:35\n",
      "     --- ------------------------------------ 0.2/2.4 GB 64.3 MB/s eta 0:00:35\n",
      "     --- ------------------------------------ 0.2/2.4 GB 64.6 MB/s eta 0:00:34\n",
      "     ---- ----------------------------------- 0.3/2.4 GB 64.9 MB/s eta 0:00:34\n",
      "     ---- ----------------------------------- 0.3/2.4 GB 65.2 MB/s eta 0:00:34\n",
      "     ---- ----------------------------------- 0.3/2.4 GB 66.2 MB/s eta 0:00:33\n",
      "     ---- ----------------------------------- 0.3/2.4 GB 67.3 MB/s eta 0:00:32\n",
      "     ----- ---------------------------------- 0.3/2.4 GB 67.6 MB/s eta 0:00:32\n",
      "     ----- ---------------------------------- 0.3/2.4 GB 67.0 MB/s eta 0:00:32\n",
      "     ----- ---------------------------------- 0.3/2.4 GB 66.2 MB/s eta 0:00:32\n",
      "     ----- ---------------------------------- 0.3/2.4 GB 66.0 MB/s eta 0:00:32\n",
      "     ----- ---------------------------------- 0.4/2.4 GB 65.7 MB/s eta 0:00:32\n",
      "     ------ --------------------------------- 0.4/2.4 GB 65.0 MB/s eta 0:00:32\n",
      "     ------ --------------------------------- 0.4/2.4 GB 64.7 MB/s eta 0:00:32\n",
      "     ------ --------------------------------- 0.4/2.4 GB 64.2 MB/s eta 0:00:32\n",
      "     ------ --------------------------------- 0.4/2.4 GB 63.7 MB/s eta 0:00:32\n",
      "     ------ --------------------------------- 0.4/2.4 GB 63.3 MB/s eta 0:00:32\n",
      "     ------- -------------------------------- 0.4/2.4 GB 63.7 MB/s eta 0:00:32\n",
      "     ------- -------------------------------- 0.4/2.4 GB 63.5 MB/s eta 0:00:32\n",
      "     ------- -------------------------------- 0.5/2.4 GB 64.0 MB/s eta 0:00:31\n",
      "     ------- -------------------------------- 0.5/2.4 GB 63.7 MB/s eta 0:00:31\n",
      "     -------- ------------------------------- 0.5/2.4 GB 63.7 MB/s eta 0:00:31\n",
      "     -------- ------------------------------- 0.5/2.4 GB 63.3 MB/s eta 0:00:31\n",
      "     -------- ------------------------------- 0.5/2.4 GB 63.0 MB/s eta 0:00:31\n",
      "     -------- ------------------------------- 0.5/2.4 GB 63.0 MB/s eta 0:00:31\n",
      "     -------- ------------------------------- 0.5/2.4 GB 62.1 MB/s eta 0:00:31\n",
      "     --------- ------------------------------ 0.6/2.4 GB 62.3 MB/s eta 0:00:31\n",
      "     --------- ------------------------------ 0.6/2.4 GB 61.6 MB/s eta 0:00:31\n",
      "     --------- ------------------------------ 0.6/2.4 GB 61.6 MB/s eta 0:00:30\n",
      "     --------- ------------------------------ 0.6/2.4 GB 61.9 MB/s eta 0:00:30\n",
      "     --------- ------------------------------ 0.6/2.4 GB 62.3 MB/s eta 0:00:30\n",
      "     ---------- ----------------------------- 0.6/2.4 GB 62.1 MB/s eta 0:00:30\n",
      "     ---------- ----------------------------- 0.6/2.4 GB 62.3 MB/s eta 0:00:29\n",
      "     ---------- ----------------------------- 0.6/2.4 GB 62.8 MB/s eta 0:00:29\n",
      "     ---------- ----------------------------- 0.6/2.4 GB 59.9 MB/s eta 0:00:30\n",
      "     ---------- ----------------------------- 0.7/2.4 GB 59.9 MB/s eta 0:00:30\n",
      "     ----------- ---------------------------- 0.7/2.4 GB 59.6 MB/s eta 0:00:30\n",
      "     ----------- ---------------------------- 0.7/2.4 GB 60.9 MB/s eta 0:00:29\n",
      "     ----------- ---------------------------- 0.7/2.4 GB 60.5 MB/s eta 0:00:29\n",
      "     ----------- ---------------------------- 0.7/2.4 GB 60.7 MB/s eta 0:00:29\n",
      "     ----------- ---------------------------- 0.7/2.4 GB 60.3 MB/s eta 0:00:29\n",
      "     ------------ --------------------------- 0.7/2.4 GB 60.3 MB/s eta 0:00:28\n",
      "     ------------ --------------------------- 0.8/2.4 GB 60.7 MB/s eta 0:00:28\n",
      "     ------------ --------------------------- 0.8/2.4 GB 59.9 MB/s eta 0:00:28\n",
      "     ------------ --------------------------- 0.8/2.4 GB 60.1 MB/s eta 0:00:28\n",
      "     ------------- -------------------------- 0.8/2.4 GB 60.1 MB/s eta 0:00:28\n",
      "     ------------- -------------------------- 0.8/2.4 GB 60.1 MB/s eta 0:00:28\n",
      "     ------------- -------------------------- 0.8/2.4 GB 59.9 MB/s eta 0:00:27\n",
      "     ------------- -------------------------- 0.8/2.4 GB 59.9 MB/s eta 0:00:27\n",
      "     ------------- -------------------------- 0.8/2.4 GB 59.4 MB/s eta 0:00:27\n",
      "     -------------- ------------------------- 0.8/2.4 GB 59.2 MB/s eta 0:00:27\n",
      "     -------------- ------------------------- 0.9/2.4 GB 59.4 MB/s eta 0:00:27\n",
      "     -------------- ------------------------- 0.9/2.4 GB 59.2 MB/s eta 0:00:27\n",
      "     -------------- ------------------------- 0.9/2.4 GB 59.6 MB/s eta 0:00:26\n",
      "     -------------- ------------------------- 0.9/2.4 GB 62.8 MB/s eta 0:00:25\n",
      "     --------------- ------------------------ 0.9/2.4 GB 63.7 MB/s eta 0:00:24\n",
      "     --------------- ------------------------ 0.9/2.4 GB 63.7 MB/s eta 0:00:24\n",
      "     --------------- ------------------------ 0.9/2.4 GB 63.5 MB/s eta 0:00:24\n",
      "     --------------- ------------------------ 1.0/2.4 GB 63.2 MB/s eta 0:00:24\n",
      "     ---------------- ----------------------- 1.0/2.4 GB 63.7 MB/s eta 0:00:23\n",
      "     ---------------- ----------------------- 1.0/2.4 GB 63.7 MB/s eta 0:00:23\n",
      "     ---------------- ----------------------- 1.0/2.4 GB 64.0 MB/s eta 0:00:23\n",
      "     ---------------- ----------------------- 1.0/2.4 GB 63.0 MB/s eta 0:00:23\n",
      "     ---------------- ----------------------- 1.0/2.4 GB 62.1 MB/s eta 0:00:23\n",
      "     ----------------- ---------------------- 1.0/2.4 GB 61.9 MB/s eta 0:00:23\n",
      "     ----------------- ---------------------- 1.0/2.4 GB 60.5 MB/s eta 0:00:23\n",
      "     ----------------- ---------------------- 1.0/2.4 GB 59.9 MB/s eta 0:00:23\n",
      "     ----------------- ---------------------- 1.1/2.4 GB 59.6 MB/s eta 0:00:23\n",
      "     ----------------- ---------------------- 1.1/2.4 GB 59.2 MB/s eta 0:00:23\n",
      "     ----------------- ---------------------- 1.1/2.4 GB 58.8 MB/s eta 0:00:23\n",
      "     ----------------- ---------------------- 1.1/2.4 GB 57.8 MB/s eta 0:00:24\n",
      "     ------------------ --------------------- 1.1/2.4 GB 58.6 MB/s eta 0:00:23\n",
      "     ------------------ --------------------- 1.1/2.4 GB 58.0 MB/s eta 0:00:23\n",
      "     ------------------ --------------------- 1.1/2.4 GB 57.4 MB/s eta 0:00:23\n",
      "     ------------------ --------------------- 1.1/2.4 GB 56.4 MB/s eta 0:00:23\n",
      "     ------------------ --------------------- 1.1/2.4 GB 56.1 MB/s eta 0:00:23\n",
      "     ------------------- -------------------- 1.2/2.4 GB 55.9 MB/s eta 0:00:23\n",
      "     ------------------- -------------------- 1.2/2.4 GB 55.5 MB/s eta 0:00:23\n",
      "     ------------------- -------------------- 1.2/2.4 GB 55.0 MB/s eta 0:00:23\n",
      "     ------------------- -------------------- 1.2/2.4 GB 55.0 MB/s eta 0:00:23\n",
      "     ------------------- -------------------- 1.2/2.4 GB 54.4 MB/s eta 0:00:23\n",
      "     -------------------- ------------------- 1.2/2.4 GB 54.1 MB/s eta 0:00:23\n",
      "     -------------------- ------------------- 1.2/2.4 GB 53.6 MB/s eta 0:00:23\n",
      "     -------------------- ------------------- 1.2/2.4 GB 53.5 MB/s eta 0:00:23\n",
      "     -------------------- ------------------- 1.2/2.4 GB 50.8 MB/s eta 0:00:24\n",
      "     -------------------- ------------------- 1.2/2.4 GB 50.6 MB/s eta 0:00:24\n",
      "     -------------------- ------------------- 1.3/2.4 GB 50.0 MB/s eta 0:00:24\n",
      "     --------------------- ------------------ 1.3/2.4 GB 50.0 MB/s eta 0:00:23\n",
      "     --------------------- ------------------ 1.3/2.4 GB 51.3 MB/s eta 0:00:23\n",
      "     --------------------- ------------------ 1.3/2.4 GB 52.0 MB/s eta 0:00:22\n",
      "     --------------------- ------------------ 1.3/2.4 GB 53.0 MB/s eta 0:00:21\n",
      "     --------------------- ------------------ 1.3/2.4 GB 55.0 MB/s eta 0:00:20\n",
      "     ---------------------- ----------------- 1.3/2.4 GB 55.7 MB/s eta 0:00:20\n",
      "     ---------------------- ----------------- 1.4/2.4 GB 57.0 MB/s eta 0:00:19\n",
      "     ---------------------- ----------------- 1.4/2.4 GB 58.8 MB/s eta 0:00:18\n",
      "     ----------------------- ---------------- 1.4/2.4 GB 60.9 MB/s eta 0:00:17\n",
      "     ----------------------- ---------------- 1.4/2.4 GB 61.4 MB/s eta 0:00:17\n",
      "     ----------------------- ---------------- 1.4/2.4 GB 62.1 MB/s eta 0:00:17\n",
      "     ----------------------- ---------------- 1.4/2.4 GB 62.8 MB/s eta 0:00:16\n",
      "     ------------------------ --------------- 1.5/2.4 GB 64.0 MB/s eta 0:00:16\n",
      "     ------------------------ --------------- 1.5/2.4 GB 65.0 MB/s eta 0:00:15\n",
      "     ------------------------ --------------- 1.5/2.4 GB 65.2 MB/s eta 0:00:15\n",
      "     ------------------------ --------------- 1.5/2.4 GB 69.0 MB/s eta 0:00:14\n",
      "     ------------------------ --------------- 1.5/2.4 GB 68.7 MB/s eta 0:00:14\n",
      "     ------------------------- -------------- 1.5/2.4 GB 69.5 MB/s eta 0:00:13\n",
      "     ------------------------- -------------- 1.5/2.4 GB 69.6 MB/s eta 0:00:13\n",
      "     ------------------------- -------------- 1.5/2.4 GB 69.6 MB/s eta 0:00:13\n",
      "     ------------------------- -------------- 1.6/2.4 GB 70.4 MB/s eta 0:00:13\n",
      "     -------------------------- ------------- 1.6/2.4 GB 70.1 MB/s eta 0:00:13\n",
      "     -------------------------- ------------- 1.6/2.4 GB 69.0 MB/s eta 0:00:13\n",
      "     -------------------------- ------------- 1.6/2.4 GB 68.4 MB/s eta 0:00:13\n",
      "     -------------------------- ------------- 1.6/2.4 GB 68.1 MB/s eta 0:00:12\n",
      "     -------------------------- ------------- 1.6/2.4 GB 67.3 MB/s eta 0:00:12\n",
      "     --------------------------- ------------ 1.6/2.4 GB 66.8 MB/s eta 0:00:12\n",
      "     --------------------------- ------------ 1.7/2.4 GB 66.5 MB/s eta 0:00:12\n",
      "     --------------------------- ------------ 1.7/2.4 GB 66.5 MB/s eta 0:00:12\n",
      "     --------------------------- ------------ 1.7/2.4 GB 66.2 MB/s eta 0:00:12\n",
      "     ---------------------------- ----------- 1.7/2.4 GB 66.5 MB/s eta 0:00:11\n",
      "     ---------------------------- ----------- 1.7/2.4 GB 66.0 MB/s eta 0:00:11\n",
      "     ---------------------------- ----------- 1.7/2.4 GB 65.7 MB/s eta 0:00:11\n",
      "     ---------------------------- ----------- 1.7/2.4 GB 65.2 MB/s eta 0:00:11\n",
      "     ----------------------------- ---------- 1.8/2.4 GB 66.2 MB/s eta 0:00:11\n",
      "     ----------------------------- ---------- 1.8/2.4 GB 67.0 MB/s eta 0:00:10\n",
      "     ----------------------------- ---------- 1.8/2.4 GB 67.9 MB/s eta 0:00:10\n",
      "     ----------------------------- ---------- 1.8/2.4 GB 69.0 MB/s eta 0:00:09\n",
      "     ------------------------------ --------- 1.8/2.4 GB 69.0 MB/s eta 0:00:09\n",
      "     ------------------------------ --------- 1.8/2.4 GB 69.3 MB/s eta 0:00:09\n",
      "     ------------------------------ --------- 1.9/2.4 GB 70.4 MB/s eta 0:00:09\n",
      "     ------------------------------ --------- 1.9/2.4 GB 70.7 MB/s eta 0:00:08\n",
      "     ------------------------------ --------- 1.9/2.4 GB 69.6 MB/s eta 0:00:08\n",
      "     ------------------------------- -------- 1.9/2.4 GB 69.6 MB/s eta 0:00:08\n",
      "     ------------------------------- -------- 1.9/2.4 GB 69.8 MB/s eta 0:00:08\n",
      "     ------------------------------- -------- 1.9/2.4 GB 68.7 MB/s eta 0:00:08\n",
      "     ------------------------------- -------- 1.9/2.4 GB 65.2 MB/s eta 0:00:08\n",
      "     ------------------------------- -------- 1.9/2.4 GB 64.5 MB/s eta 0:00:08\n",
      "     -------------------------------- ------- 1.9/2.4 GB 64.2 MB/s eta 0:00:08\n",
      "     -------------------------------- ------- 2.0/2.4 GB 63.3 MB/s eta 0:00:08\n",
      "     -------------------------------- ------- 2.0/2.4 GB 63.5 MB/s eta 0:00:08\n",
      "     -------------------------------- ------- 2.0/2.4 GB 62.8 MB/s eta 0:00:08\n",
      "     -------------------------------- ------- 2.0/2.4 GB 62.5 MB/s eta 0:00:07\n",
      "     --------------------------------- ------ 2.0/2.4 GB 62.8 MB/s eta 0:00:07\n",
      "     --------------------------------- ------ 2.0/2.4 GB 62.1 MB/s eta 0:00:07\n",
      "     --------------------------------- ------ 2.0/2.4 GB 61.2 MB/s eta 0:00:07\n",
      "     --------------------------------- ------ 2.0/2.4 GB 60.7 MB/s eta 0:00:07\n",
      "     --------------------------------- ------ 2.0/2.4 GB 59.6 MB/s eta 0:00:07\n",
      "     --------------------------------- ------ 2.1/2.4 GB 59.0 MB/s eta 0:00:07\n",
      "     ---------------------------------- ----- 2.1/2.4 GB 58.8 MB/s eta 0:00:06\n",
      "     ---------------------------------- ----- 2.1/2.4 GB 58.0 MB/s eta 0:00:06\n",
      "     ---------------------------------- ----- 2.1/2.4 GB 57.6 MB/s eta 0:00:06\n",
      "     ---------------------------------- ----- 2.1/2.4 GB 57.4 MB/s eta 0:00:06\n",
      "     ----------------------------------- ---- 2.1/2.4 GB 57.2 MB/s eta 0:00:06\n",
      "     ----------------------------------- ---- 2.1/2.4 GB 57.4 MB/s eta 0:00:05\n",
      "     ----------------------------------- ---- 2.2/2.4 GB 57.6 MB/s eta 0:00:05\n",
      "     ----------------------------------- ---- 2.2/2.4 GB 58.2 MB/s eta 0:00:05\n",
      "     ------------------------------------ --- 2.2/2.4 GB 61.6 MB/s eta 0:00:04\n",
      "     ------------------------------------ --- 2.2/2.4 GB 62.8 MB/s eta 0:00:04\n",
      "     ------------------------------------ --- 2.2/2.4 GB 64.0 MB/s eta 0:00:04\n",
      "     ------------------------------------ --- 2.2/2.4 GB 65.0 MB/s eta 0:00:03\n",
      "     ------------------------------------- -- 2.2/2.4 GB 64.5 MB/s eta 0:00:03\n",
      "     ------------------------------------- -- 2.3/2.4 GB 64.2 MB/s eta 0:00:03\n",
      "     ------------------------------------- -- 2.3/2.4 GB 64.2 MB/s eta 0:00:03\n",
      "     ------------------------------------- -- 2.3/2.4 GB 65.2 MB/s eta 0:00:03\n",
      "     ------------------------------------- -- 2.3/2.4 GB 66.0 MB/s eta 0:00:02\n",
      "     -------------------------------------- - 2.3/2.4 GB 66.8 MB/s eta 0:00:02\n",
      "     -------------------------------------- - 2.3/2.4 GB 65.2 MB/s eta 0:00:02\n",
      "     -------------------------------------- - 2.3/2.4 GB 64.2 MB/s eta 0:00:02\n",
      "     -------------------------------------- - 2.3/2.4 GB 64.2 MB/s eta 0:00:02\n",
      "     -------------------------------------- - 2.4/2.4 GB 64.7 MB/s eta 0:00:02\n",
      "     ---------------------------------------  2.4/2.4 GB 64.5 MB/s eta 0:00:01\n",
      "     ---------------------------------------  2.4/2.4 GB 64.7 MB/s eta 0:00:01\n",
      "     ---------------------------------------  2.4/2.4 GB 65.2 MB/s eta 0:00:01\n",
      "     ---------------------------------------  2.4/2.4 GB 64.7 MB/s eta 0:00:01\n",
      "     ---------------------------------------  2.4/2.4 GB 63.7 MB/s eta 0:00:01\n",
      "     ---------------------------------------  2.4/2.4 GB 63.5 MB/s eta 0:00:01\n",
      "     ---------------------------------------  2.4/2.4 GB 63.5 MB/s eta 0:00:01\n",
      "     ---------------------------------------  2.4/2.4 GB 63.5 MB/s eta 0:00:01\n",
      "     ---------------------------------------  2.4/2.4 GB 63.5 MB/s eta 0:00:01\n",
      "     ---------------------------------------  2.4/2.4 GB 63.5 MB/s eta 0:00:01\n",
      "     ---------------------------------------  2.4/2.4 GB 63.5 MB/s eta 0:00:01\n",
      "     ---------------------------------------  2.4/2.4 GB 63.5 MB/s eta 0:00:01\n",
      "     ---------------------------------------  2.4/2.4 GB 63.5 MB/s eta 0:00:01\n",
      "     ---------------------------------------  2.4/2.4 GB 63.5 MB/s eta 0:00:01\n",
      "     ---------------------------------------  2.4/2.4 GB 63.5 MB/s eta 0:00:01\n",
      "     ---------------------------------------  2.4/2.4 GB 63.5 MB/s eta 0:00:01\n",
      "     ---------------------------------------  2.4/2.4 GB 63.5 MB/s eta 0:00:01\n",
      "     ---------------------------------------  2.4/2.4 GB 63.5 MB/s eta 0:00:01\n",
      "     ---------------------------------------  2.4/2.4 GB 63.5 MB/s eta 0:00:01\n",
      "     ---------------------------------------  2.4/2.4 GB 63.5 MB/s eta 0:00:01\n",
      "     ---------------------------------------  2.4/2.4 GB 63.5 MB/s eta 0:00:01\n",
      "     ---------------------------------------  2.4/2.4 GB 63.5 MB/s eta 0:00:01\n",
      "     ---------------------------------------  2.4/2.4 GB 63.5 MB/s eta 0:00:01\n",
      "     ---------------------------------------  2.4/2.4 GB 63.5 MB/s eta 0:00:01\n",
      "     ---------------------------------------  2.4/2.4 GB 63.5 MB/s eta 0:00:01\n",
      "     ---------------------------------------  2.4/2.4 GB 63.5 MB/s eta 0:00:01\n",
      "     ---------------------------------------  2.4/2.4 GB 63.5 MB/s eta 0:00:01\n",
      "     ---------------------------------------  2.4/2.4 GB 63.5 MB/s eta 0:00:01\n",
      "     ---------------------------------------  2.4/2.4 GB 63.5 MB/s eta 0:00:01\n",
      "     ---------------------------------------  2.4/2.4 GB 63.5 MB/s eta 0:00:01\n",
      "     ---------------------------------------  2.4/2.4 GB 63.5 MB/s eta 0:00:01\n",
      "     ---------------------------------------  2.4/2.4 GB 63.5 MB/s eta 0:00:01\n",
      "     ---------------------------------------  2.4/2.4 GB 63.5 MB/s eta 0:00:01\n",
      "     ---------------------------------------  2.4/2.4 GB 63.5 MB/s eta 0:00:01\n",
      "     ---------------------------------------  2.4/2.4 GB 63.5 MB/s eta 0:00:01\n",
      "     ---------------------------------------  2.4/2.4 GB 63.5 MB/s eta 0:00:01\n",
      "     ---------------------------------------  2.4/2.4 GB 63.5 MB/s eta 0:00:01\n",
      "     ---------------------------------------  2.4/2.4 GB 63.5 MB/s eta 0:00:01\n",
      "     ---------------------------------------  2.4/2.4 GB 63.5 MB/s eta 0:00:01\n",
      "     ---------------------------------------  2.4/2.4 GB 63.5 MB/s eta 0:00:01\n",
      "     ---------------------------------------  2.4/2.4 GB 63.5 MB/s eta 0:00:01\n",
      "     ---------------------------------------  2.4/2.4 GB 63.5 MB/s eta 0:00:01\n",
      "     ---------------------------------------- 2.4/2.4 GB 22.0 MB/s eta 0:00:00\n",
      "Collecting torchvision==0.18.1\n",
      "  Downloading https://download.pytorch.org/whl/cu121/torchvision-0.18.1%2Bcu121-cp310-cp310-win_amd64.whl (5.7 MB)\n",
      "     ---------------------------------------- 0.0/5.7 MB ? eta -:--:--\n",
      "     ---------------------------------------- 5.7/5.7 MB 38.4 MB/s eta 0:00:00\n",
      "Collecting torchaudio==2.3.1\n",
      "  Downloading https://download.pytorch.org/whl/cu121/torchaudio-2.3.1%2Bcu121-cp310-cp310-win_amd64.whl (4.1 MB)\n",
      "     ---------------------------------------- 0.0/4.1 MB ? eta -:--:--\n",
      "     ---------------------------------------- 4.1/4.1 MB 40.4 MB/s eta 0:00:00\n",
      "Requirement already satisfied: filelock in c:\\users\\user\\appdata\\local\\packages\\pythonsoftwarefoundation.python.3.10_qbz5n2kfra8p0\\localcache\\local-packages\\python310\\site-packages (from torch==2.3.1) (3.15.1)\n",
      "Requirement already satisfied: typing-extensions>=4.8.0 in c:\\users\\user\\appdata\\local\\packages\\pythonsoftwarefoundation.python.3.10_qbz5n2kfra8p0\\localcache\\local-packages\\python310\\site-packages (from torch==2.3.1) (4.12.2)\n",
      "Requirement already satisfied: sympy in c:\\users\\user\\appdata\\local\\packages\\pythonsoftwarefoundation.python.3.10_qbz5n2kfra8p0\\localcache\\local-packages\\python310\\site-packages (from torch==2.3.1) (1.12.1)\n",
      "Requirement already satisfied: networkx in c:\\users\\user\\appdata\\local\\packages\\pythonsoftwarefoundation.python.3.10_qbz5n2kfra8p0\\localcache\\local-packages\\python310\\site-packages (from torch==2.3.1) (3.1)\n",
      "Requirement already satisfied: jinja2 in c:\\users\\user\\appdata\\local\\packages\\pythonsoftwarefoundation.python.3.10_qbz5n2kfra8p0\\localcache\\local-packages\\python310\\site-packages (from torch==2.3.1) (3.1.4)\n",
      "Requirement already satisfied: fsspec in c:\\users\\user\\appdata\\local\\packages\\pythonsoftwarefoundation.python.3.10_qbz5n2kfra8p0\\localcache\\local-packages\\python310\\site-packages (from torch==2.3.1) (2024.6.0)\n",
      "Requirement already satisfied: mkl<=2021.4.0,>=2021.1.1 in c:\\users\\user\\appdata\\local\\packages\\pythonsoftwarefoundation.python.3.10_qbz5n2kfra8p0\\localcache\\local-packages\\python310\\site-packages (from torch==2.3.1) (2021.4.0)\n",
      "Requirement already satisfied: numpy in c:\\users\\user\\appdata\\local\\packages\\pythonsoftwarefoundation.python.3.10_qbz5n2kfra8p0\\localcache\\local-packages\\python310\\site-packages (from torchvision==0.18.1) (1.25.2)\n",
      "Requirement already satisfied: pillow!=8.3.*,>=5.3.0 in c:\\users\\user\\appdata\\local\\packages\\pythonsoftwarefoundation.python.3.10_qbz5n2kfra8p0\\localcache\\local-packages\\python310\\site-packages (from torchvision==0.18.1) (10.3.0)\n",
      "Requirement already satisfied: intel-openmp==2021.* in c:\\users\\user\\appdata\\local\\packages\\pythonsoftwarefoundation.python.3.10_qbz5n2kfra8p0\\localcache\\local-packages\\python310\\site-packages (from mkl<=2021.4.0,>=2021.1.1->torch==2.3.1) (2021.4.0)\n",
      "Requirement already satisfied: tbb==2021.* in c:\\users\\user\\appdata\\local\\packages\\pythonsoftwarefoundation.python.3.10_qbz5n2kfra8p0\\localcache\\local-packages\\python310\\site-packages (from mkl<=2021.4.0,>=2021.1.1->torch==2.3.1) (2021.12.0)\n",
      "Requirement already satisfied: MarkupSafe>=2.0 in c:\\users\\user\\appdata\\local\\packages\\pythonsoftwarefoundation.python.3.10_qbz5n2kfra8p0\\localcache\\local-packages\\python310\\site-packages (from jinja2->torch==2.3.1) (2.1.5)\n",
      "Requirement already satisfied: mpmath<1.4.0,>=1.1.0 in c:\\users\\user\\appdata\\local\\packages\\pythonsoftwarefoundation.python.3.10_qbz5n2kfra8p0\\localcache\\local-packages\\python310\\site-packages (from sympy->torch==2.3.1) (1.3.0)\n",
      "Installing collected packages: torch, torchvision, torchaudio\n",
      "Successfully installed torch-2.3.1+cu121 torchaudio-2.3.1+cu121 torchvision-0.18.1+cu121\n",
      "Note: you may need to restart the kernel to use updated packages.\n"
     ]
    },
    {
     "name": "stderr",
     "output_type": "stream",
     "text": [
      "WARNING: Ignoring invalid distribution -penvino-dev (c:\\users\\user\\appdata\\local\\packages\\pythonsoftwarefoundation.python.3.10_qbz5n2kfra8p0\\localcache\\local-packages\\python310\\site-packages)\n",
      "WARNING: Ignoring invalid distribution -penvino-dev (c:\\users\\user\\appdata\\local\\packages\\pythonsoftwarefoundation.python.3.10_qbz5n2kfra8p0\\localcache\\local-packages\\python310\\site-packages)\n",
      "WARNING: Ignoring invalid distribution -penvino-dev (c:\\users\\user\\appdata\\local\\packages\\pythonsoftwarefoundation.python.3.10_qbz5n2kfra8p0\\localcache\\local-packages\\python310\\site-packages)\n",
      "WARNING: Ignoring invalid distribution -penvino-dev (c:\\users\\user\\appdata\\local\\packages\\pythonsoftwarefoundation.python.3.10_qbz5n2kfra8p0\\localcache\\local-packages\\python310\\site-packages)\n"
     ]
    }
   ],
   "source": [
    "pip install torch==2.3.1 torchvision==0.18.1 torchaudio==2.3.1 --index-url https://download.pytorch.org/whl/cu121"
   ]
  },
  {
   "cell_type": "markdown",
   "metadata": {},
   "source": [
    "Install Ultralytics and check the installation"
   ]
  },
  {
   "cell_type": "code",
   "execution_count": 3,
   "metadata": {},
   "outputs": [
    {
     "name": "stdout",
     "output_type": "stream",
     "text": [
      "Ultralytics YOLOv8.2.80  Python-3.10.11 torch-2.4.0+cu118 CUDA:0 (NVIDIA GeForce GTX 1650, 4096MiB)\n",
      "Setup complete  (8 CPUs, 15.8 GB RAM, 456.9/474.7 GB disk)\n"
     ]
    }
   ],
   "source": [
    "%pip install ultralytics\n",
    "import ultralytics\n",
    "ultralytics.checks()"
   ]
  },
  {
   "cell_type": "markdown",
   "metadata": {},
   "source": [
    "Install Ultralytics 8.0.196"
   ]
  },
  {
   "cell_type": "code",
   "execution_count": 6,
   "metadata": {},
   "outputs": [
    {
     "name": "stdout",
     "output_type": "stream",
     "text": [
      "Requirement already satisfied: ultralytics==8.0.196 in c:\\users\\user\\appdata\\local\\packages\\pythonsoftwarefoundation.python.3.10_qbz5n2kfra8p0\\localcache\\local-packages\\python310\\site-packages (8.0.196)\n",
      "Requirement already satisfied: matplotlib>=3.3.0 in c:\\users\\user\\appdata\\local\\packages\\pythonsoftwarefoundation.python.3.10_qbz5n2kfra8p0\\localcache\\local-packages\\python310\\site-packages (from ultralytics==8.0.196) (3.9.0)\n",
      "Requirement already satisfied: numpy>=1.22.2 in c:\\users\\user\\appdata\\local\\packages\\pythonsoftwarefoundation.python.3.10_qbz5n2kfra8p0\\localcache\\local-packages\\python310\\site-packages (from ultralytics==8.0.196) (1.25.2)\n",
      "Requirement already satisfied: opencv-python>=4.6.0 in c:\\users\\user\\appdata\\local\\packages\\pythonsoftwarefoundation.python.3.10_qbz5n2kfra8p0\\localcache\\local-packages\\python310\\site-packages (from ultralytics==8.0.196) (4.10.0.84)\n",
      "Requirement already satisfied: pillow>=7.1.2 in c:\\users\\user\\appdata\\local\\packages\\pythonsoftwarefoundation.python.3.10_qbz5n2kfra8p0\\localcache\\local-packages\\python310\\site-packages (from ultralytics==8.0.196) (10.3.0)\n",
      "Requirement already satisfied: pyyaml>=5.3.1 in c:\\users\\user\\appdata\\local\\packages\\pythonsoftwarefoundation.python.3.10_qbz5n2kfra8p0\\localcache\\local-packages\\python310\\site-packages (from ultralytics==8.0.196) (6.0.1)\n",
      "Requirement already satisfied: requests>=2.23.0 in c:\\users\\user\\appdata\\local\\packages\\pythonsoftwarefoundation.python.3.10_qbz5n2kfra8p0\\localcache\\local-packages\\python310\\site-packages (from ultralytics==8.0.196) (2.32.3)\n",
      "Requirement already satisfied: scipy>=1.4.1 in c:\\users\\user\\appdata\\local\\packages\\pythonsoftwarefoundation.python.3.10_qbz5n2kfra8p0\\localcache\\local-packages\\python310\\site-packages (from ultralytics==8.0.196) (1.13.1)\n",
      "Requirement already satisfied: torch>=1.8.0 in c:\\users\\user\\appdata\\local\\packages\\pythonsoftwarefoundation.python.3.10_qbz5n2kfra8p0\\localcache\\local-packages\\python310\\site-packages (from ultralytics==8.0.196) (2.3.1+cu121)\n",
      "Requirement already satisfied: torchvision>=0.9.0 in c:\\users\\user\\appdata\\local\\packages\\pythonsoftwarefoundation.python.3.10_qbz5n2kfra8p0\\localcache\\local-packages\\python310\\site-packages (from ultralytics==8.0.196) (0.18.1+cu121)\n",
      "Requirement already satisfied: tqdm>=4.64.0 in c:\\users\\user\\appdata\\local\\packages\\pythonsoftwarefoundation.python.3.10_qbz5n2kfra8p0\\localcache\\local-packages\\python310\\site-packages (from ultralytics==8.0.196) (4.66.4)\n",
      "Requirement already satisfied: pandas>=1.1.4 in c:\\users\\user\\appdata\\local\\packages\\pythonsoftwarefoundation.python.3.10_qbz5n2kfra8p0\\localcache\\local-packages\\python310\\site-packages (from ultralytics==8.0.196) (2.2.2)\n",
      "Requirement already satisfied: seaborn>=0.11.0 in c:\\users\\user\\appdata\\local\\packages\\pythonsoftwarefoundation.python.3.10_qbz5n2kfra8p0\\localcache\\local-packages\\python310\\site-packages (from ultralytics==8.0.196) (0.13.2)\n",
      "Requirement already satisfied: psutil in c:\\users\\user\\appdata\\local\\packages\\pythonsoftwarefoundation.python.3.10_qbz5n2kfra8p0\\localcache\\local-packages\\python310\\site-packages (from ultralytics==8.0.196) (5.9.8)\n",
      "Requirement already satisfied: py-cpuinfo in c:\\users\\user\\appdata\\local\\packages\\pythonsoftwarefoundation.python.3.10_qbz5n2kfra8p0\\localcache\\local-packages\\python310\\site-packages (from ultralytics==8.0.196) (9.0.0)\n",
      "Requirement already satisfied: thop>=0.1.1 in c:\\users\\user\\appdata\\local\\packages\\pythonsoftwarefoundation.python.3.10_qbz5n2kfra8p0\\localcache\\local-packages\\python310\\site-packages (from ultralytics==8.0.196) (0.1.1.post2209072238)\n",
      "Requirement already satisfied: contourpy>=1.0.1 in c:\\users\\user\\appdata\\local\\packages\\pythonsoftwarefoundation.python.3.10_qbz5n2kfra8p0\\localcache\\local-packages\\python310\\site-packages (from matplotlib>=3.3.0->ultralytics==8.0.196) (1.2.1)\n",
      "Requirement already satisfied: cycler>=0.10 in c:\\users\\user\\appdata\\local\\packages\\pythonsoftwarefoundation.python.3.10_qbz5n2kfra8p0\\localcache\\local-packages\\python310\\site-packages (from matplotlib>=3.3.0->ultralytics==8.0.196) (0.12.1)\n",
      "Requirement already satisfied: fonttools>=4.22.0 in c:\\users\\user\\appdata\\local\\packages\\pythonsoftwarefoundation.python.3.10_qbz5n2kfra8p0\\localcache\\local-packages\\python310\\site-packages (from matplotlib>=3.3.0->ultralytics==8.0.196) (4.53.0)\n",
      "Requirement already satisfied: kiwisolver>=1.3.1 in c:\\users\\user\\appdata\\local\\packages\\pythonsoftwarefoundation.python.3.10_qbz5n2kfra8p0\\localcache\\local-packages\\python310\\site-packages (from matplotlib>=3.3.0->ultralytics==8.0.196) (1.4.5)\n",
      "Requirement already satisfied: packaging>=20.0 in c:\\users\\user\\appdata\\local\\packages\\pythonsoftwarefoundation.python.3.10_qbz5n2kfra8p0\\localcache\\local-packages\\python310\\site-packages (from matplotlib>=3.3.0->ultralytics==8.0.196) (24.1)\n",
      "Requirement already satisfied: pyparsing>=2.3.1 in c:\\users\\user\\appdata\\local\\packages\\pythonsoftwarefoundation.python.3.10_qbz5n2kfra8p0\\localcache\\local-packages\\python310\\site-packages (from matplotlib>=3.3.0->ultralytics==8.0.196) (3.1.2)\n",
      "Requirement already satisfied: python-dateutil>=2.7 in c:\\users\\user\\appdata\\local\\packages\\pythonsoftwarefoundation.python.3.10_qbz5n2kfra8p0\\localcache\\local-packages\\python310\\site-packages (from matplotlib>=3.3.0->ultralytics==8.0.196) (2.9.0.post0)\n",
      "Requirement already satisfied: pytz>=2020.1 in c:\\users\\user\\appdata\\local\\packages\\pythonsoftwarefoundation.python.3.10_qbz5n2kfra8p0\\localcache\\local-packages\\python310\\site-packages (from pandas>=1.1.4->ultralytics==8.0.196) (2024.1)\n",
      "Requirement already satisfied: tzdata>=2022.7 in c:\\users\\user\\appdata\\local\\packages\\pythonsoftwarefoundation.python.3.10_qbz5n2kfra8p0\\localcache\\local-packages\\python310\\site-packages (from pandas>=1.1.4->ultralytics==8.0.196) (2024.1)\n",
      "Requirement already satisfied: charset-normalizer<4,>=2 in c:\\users\\user\\appdata\\local\\packages\\pythonsoftwarefoundation.python.3.10_qbz5n2kfra8p0\\localcache\\local-packages\\python310\\site-packages (from requests>=2.23.0->ultralytics==8.0.196) (3.3.2)\n",
      "Requirement already satisfied: idna<4,>=2.5 in c:\\users\\user\\appdata\\local\\packages\\pythonsoftwarefoundation.python.3.10_qbz5n2kfra8p0\\localcache\\local-packages\\python310\\site-packages (from requests>=2.23.0->ultralytics==8.0.196) (3.7)\n",
      "Requirement already satisfied: urllib3<3,>=1.21.1 in c:\\users\\user\\appdata\\local\\packages\\pythonsoftwarefoundation.python.3.10_qbz5n2kfra8p0\\localcache\\local-packages\\python310\\site-packages (from requests>=2.23.0->ultralytics==8.0.196) (2.2.2)\n",
      "Requirement already satisfied: certifi>=2017.4.17 in c:\\users\\user\\appdata\\local\\packages\\pythonsoftwarefoundation.python.3.10_qbz5n2kfra8p0\\localcache\\local-packages\\python310\\site-packages (from requests>=2.23.0->ultralytics==8.0.196) (2024.6.2)\n",
      "Requirement already satisfied: filelock in c:\\users\\user\\appdata\\local\\packages\\pythonsoftwarefoundation.python.3.10_qbz5n2kfra8p0\\localcache\\local-packages\\python310\\site-packages (from torch>=1.8.0->ultralytics==8.0.196) (3.15.1)\n",
      "Requirement already satisfied: typing-extensions>=4.8.0 in c:\\users\\user\\appdata\\local\\packages\\pythonsoftwarefoundation.python.3.10_qbz5n2kfra8p0\\localcache\\local-packages\\python310\\site-packages (from torch>=1.8.0->ultralytics==8.0.196) (4.12.2)\n",
      "Requirement already satisfied: sympy in c:\\users\\user\\appdata\\local\\packages\\pythonsoftwarefoundation.python.3.10_qbz5n2kfra8p0\\localcache\\local-packages\\python310\\site-packages (from torch>=1.8.0->ultralytics==8.0.196) (1.12.1)\n",
      "Requirement already satisfied: networkx in c:\\users\\user\\appdata\\local\\packages\\pythonsoftwarefoundation.python.3.10_qbz5n2kfra8p0\\localcache\\local-packages\\python310\\site-packages (from torch>=1.8.0->ultralytics==8.0.196) (3.1)\n",
      "Requirement already satisfied: jinja2 in c:\\users\\user\\appdata\\local\\packages\\pythonsoftwarefoundation.python.3.10_qbz5n2kfra8p0\\localcache\\local-packages\\python310\\site-packages (from torch>=1.8.0->ultralytics==8.0.196) (3.1.4)\n",
      "Requirement already satisfied: fsspec in c:\\users\\user\\appdata\\local\\packages\\pythonsoftwarefoundation.python.3.10_qbz5n2kfra8p0\\localcache\\local-packages\\python310\\site-packages (from torch>=1.8.0->ultralytics==8.0.196) (2024.6.0)\n",
      "Requirement already satisfied: mkl<=2021.4.0,>=2021.1.1 in c:\\users\\user\\appdata\\local\\packages\\pythonsoftwarefoundation.python.3.10_qbz5n2kfra8p0\\localcache\\local-packages\\python310\\site-packages (from torch>=1.8.0->ultralytics==8.0.196) (2021.4.0)\n",
      "Requirement already satisfied: colorama in c:\\users\\user\\appdata\\local\\packages\\pythonsoftwarefoundation.python.3.10_qbz5n2kfra8p0\\localcache\\local-packages\\python310\\site-packages (from tqdm>=4.64.0->ultralytics==8.0.196) (0.4.6)\n",
      "Requirement already satisfied: intel-openmp==2021.* in c:\\users\\user\\appdata\\local\\packages\\pythonsoftwarefoundation.python.3.10_qbz5n2kfra8p0\\localcache\\local-packages\\python310\\site-packages (from mkl<=2021.4.0,>=2021.1.1->torch>=1.8.0->ultralytics==8.0.196) (2021.4.0)\n",
      "Requirement already satisfied: tbb==2021.* in c:\\users\\user\\appdata\\local\\packages\\pythonsoftwarefoundation.python.3.10_qbz5n2kfra8p0\\localcache\\local-packages\\python310\\site-packages (from mkl<=2021.4.0,>=2021.1.1->torch>=1.8.0->ultralytics==8.0.196) (2021.12.0)\n",
      "Requirement already satisfied: six>=1.5 in c:\\users\\user\\appdata\\local\\packages\\pythonsoftwarefoundation.python.3.10_qbz5n2kfra8p0\\localcache\\local-packages\\python310\\site-packages (from python-dateutil>=2.7->matplotlib>=3.3.0->ultralytics==8.0.196) (1.16.0)\n",
      "Requirement already satisfied: MarkupSafe>=2.0 in c:\\users\\user\\appdata\\local\\packages\\pythonsoftwarefoundation.python.3.10_qbz5n2kfra8p0\\localcache\\local-packages\\python310\\site-packages (from jinja2->torch>=1.8.0->ultralytics==8.0.196) (2.1.5)\n",
      "Requirement already satisfied: mpmath<1.4.0,>=1.1.0 in c:\\users\\user\\appdata\\local\\packages\\pythonsoftwarefoundation.python.3.10_qbz5n2kfra8p0\\localcache\\local-packages\\python310\\site-packages (from sympy->torch>=1.8.0->ultralytics==8.0.196) (1.3.0)\n",
      "Note: you may need to restart the kernel to use updated packages.\n"
     ]
    },
    {
     "name": "stderr",
     "output_type": "stream",
     "text": [
      "WARNING: Ignoring invalid distribution -penvino-dev (c:\\users\\user\\appdata\\local\\packages\\pythonsoftwarefoundation.python.3.10_qbz5n2kfra8p0\\localcache\\local-packages\\python310\\site-packages)\n",
      "WARNING: Ignoring invalid distribution -penvino-dev (c:\\users\\user\\appdata\\local\\packages\\pythonsoftwarefoundation.python.3.10_qbz5n2kfra8p0\\localcache\\local-packages\\python310\\site-packages)\n",
      "WARNING: Ignoring invalid distribution -penvino-dev (c:\\users\\user\\appdata\\local\\packages\\pythonsoftwarefoundation.python.3.10_qbz5n2kfra8p0\\localcache\\local-packages\\python310\\site-packages)\n",
      "WARNING: Ignoring invalid distribution -penvino-dev (c:\\users\\user\\appdata\\local\\packages\\pythonsoftwarefoundation.python.3.10_qbz5n2kfra8p0\\localcache\\local-packages\\python310\\site-packages)\n"
     ]
    }
   ],
   "source": [
    "pip install ultralytics==8.0.196"
   ]
  },
  {
   "cell_type": "markdown",
   "metadata": {},
   "source": [
    "Check Ultralytics yolo details include CUDA "
   ]
  },
  {
   "cell_type": "code",
   "execution_count": 2,
   "metadata": {},
   "outputs": [
    {
     "name": "stdout",
     "output_type": "stream",
     "text": [
      "\u001b[2K\n",
      "\u001b[2K\n",
      "Ultralytics YOLOv8.2.78 🚀 Python-3.10.11 torch-2.3.1+cu121 CUDA:0 (NVIDIA GeForce GTX 1650, 4096MiB)\n",
      "Setup complete ✅ (8 CPUs, 15.8 GB RAM, 454.7/474.7 GB disk)\n",
      "\n",
      "OS                  Windows-10-10.0.22631-SP0\n",
      "Environment         Windows\n",
      "Python              3.10.11\n",
      "Install             pip\n",
      "RAM                 15.79 GB\n",
      "CPU                 11th Gen Intel Core(TM) i5-11300H 3.10GHz\n",
      "CUDA                12.1\n",
      "\n",
      "numpy               ✅ 1.25.2<2.0.0,>=1.23.0\n",
      "matplotlib          ✅ 3.9.0>=3.3.0\n",
      "opencv-python       ✅ 4.10.0.84>=4.6.0\n",
      "pillow              ✅ 10.3.0>=7.1.2\n",
      "pyyaml              ✅ 6.0.1>=5.3.1\n",
      "requests            ✅ 2.32.3>=2.23.0\n",
      "scipy               ✅ 1.13.1>=1.4.1\n",
      "torch               ✅ 2.3.1+cu121>=1.8.0\n",
      "torchvision         ✅ 0.18.1+cu121>=0.9.0\n",
      "tqdm                ✅ 4.66.4>=4.64.0\n",
      "psutil              ✅ 5.9.8\n",
      "py-cpuinfo          ✅ 9.0.0\n",
      "pandas              ✅ 2.2.2>=1.1.4\n",
      "seaborn             ✅ 0.13.2>=0.11.0\n",
      "ultralytics-thop    ✅ 2.0.2>=2.0.0\n"
     ]
    }
   ],
   "source": [
    "from ultralytics import YOLO\n",
    "import os\n",
    "from IPython.display import display, Image\n",
    "from IPython import display\n",
    "display.clear_output()\n",
    "!yolo checks"
   ]
  },
  {
   "cell_type": "markdown",
   "metadata": {},
   "source": [
    "install Roboflow and insert the API Key from your project on Roboflow website to download the image data for training "
   ]
  },
  {
   "cell_type": "code",
   "execution_count": 1,
   "metadata": {},
   "outputs": [
    {
     "name": "stdout",
     "output_type": "stream",
     "text": [
      "Requirement already satisfied: roboflow in c:\\users\\user\\appdata\\local\\packages\\pythonsoftwarefoundation.python.3.10_qbz5n2kfra8p0\\localcache\\local-packages\\python310\\site-packages (1.1.37)\n",
      "Requirement already satisfied: certifi in c:\\users\\user\\appdata\\local\\packages\\pythonsoftwarefoundation.python.3.10_qbz5n2kfra8p0\\localcache\\local-packages\\python310\\site-packages (from roboflow) (2024.6.2)\n",
      "Requirement already satisfied: chardet==4.0.0 in c:\\users\\user\\appdata\\local\\packages\\pythonsoftwarefoundation.python.3.10_qbz5n2kfra8p0\\localcache\\local-packages\\python310\\site-packages (from roboflow) (4.0.0)\n",
      "Requirement already satisfied: idna==3.7 in c:\\users\\user\\appdata\\local\\packages\\pythonsoftwarefoundation.python.3.10_qbz5n2kfra8p0\\localcache\\local-packages\\python310\\site-packages (from roboflow) (3.7)\n",
      "Requirement already satisfied: cycler in c:\\users\\user\\appdata\\local\\packages\\pythonsoftwarefoundation.python.3.10_qbz5n2kfra8p0\\localcache\\local-packages\\python310\\site-packages (from roboflow) (0.12.1)\n",
      "Requirement already satisfied: kiwisolver>=1.3.1 in c:\\users\\user\\appdata\\local\\packages\\pythonsoftwarefoundation.python.3.10_qbz5n2kfra8p0\\localcache\\local-packages\\python310\\site-packages (from roboflow) (1.4.5)\n",
      "Requirement already satisfied: matplotlib in c:\\users\\user\\appdata\\local\\packages\\pythonsoftwarefoundation.python.3.10_qbz5n2kfra8p0\\localcache\\local-packages\\python310\\site-packages (from roboflow) (3.9.0)\n",
      "Requirement already satisfied: numpy>=1.18.5 in c:\\users\\user\\appdata\\local\\packages\\pythonsoftwarefoundation.python.3.10_qbz5n2kfra8p0\\localcache\\local-packages\\python310\\site-packages (from roboflow) (1.25.2)\n",
      "Requirement already satisfied: opencv-python-headless==4.10.0.84 in c:\\users\\user\\appdata\\local\\packages\\pythonsoftwarefoundation.python.3.10_qbz5n2kfra8p0\\localcache\\local-packages\\python310\\site-packages (from roboflow) (4.10.0.84)\n",
      "Requirement already satisfied: Pillow>=7.1.2 in c:\\users\\user\\appdata\\local\\packages\\pythonsoftwarefoundation.python.3.10_qbz5n2kfra8p0\\localcache\\local-packages\\python310\\site-packages (from roboflow) (10.3.0)\n",
      "Requirement already satisfied: python-dateutil in c:\\users\\user\\appdata\\local\\packages\\pythonsoftwarefoundation.python.3.10_qbz5n2kfra8p0\\localcache\\local-packages\\python310\\site-packages (from roboflow) (2.9.0.post0)\n",
      "Requirement already satisfied: python-dotenv in c:\\users\\user\\appdata\\local\\packages\\pythonsoftwarefoundation.python.3.10_qbz5n2kfra8p0\\localcache\\local-packages\\python310\\site-packages (from roboflow) (1.0.1)\n",
      "Requirement already satisfied: requests in c:\\users\\user\\appdata\\local\\packages\\pythonsoftwarefoundation.python.3.10_qbz5n2kfra8p0\\localcache\\local-packages\\python310\\site-packages (from roboflow) (2.32.3)\n",
      "Requirement already satisfied: six in c:\\users\\user\\appdata\\local\\packages\\pythonsoftwarefoundation.python.3.10_qbz5n2kfra8p0\\localcache\\local-packages\\python310\\site-packages (from roboflow) (1.16.0)\n",
      "Requirement already satisfied: urllib3>=1.26.6 in c:\\users\\user\\appdata\\local\\packages\\pythonsoftwarefoundation.python.3.10_qbz5n2kfra8p0\\localcache\\local-packages\\python310\\site-packages (from roboflow) (2.2.2)\n",
      "Requirement already satisfied: tqdm>=4.41.0 in c:\\users\\user\\appdata\\local\\packages\\pythonsoftwarefoundation.python.3.10_qbz5n2kfra8p0\\localcache\\local-packages\\python310\\site-packages (from roboflow) (4.66.4)\n",
      "Requirement already satisfied: PyYAML>=5.3.1 in c:\\users\\user\\appdata\\local\\packages\\pythonsoftwarefoundation.python.3.10_qbz5n2kfra8p0\\localcache\\local-packages\\python310\\site-packages (from roboflow) (6.0.1)\n",
      "Requirement already satisfied: requests-toolbelt in c:\\users\\user\\appdata\\local\\packages\\pythonsoftwarefoundation.python.3.10_qbz5n2kfra8p0\\localcache\\local-packages\\python310\\site-packages (from roboflow) (1.0.0)\n",
      "Requirement already satisfied: filetype in c:\\users\\user\\appdata\\local\\packages\\pythonsoftwarefoundation.python.3.10_qbz5n2kfra8p0\\localcache\\local-packages\\python310\\site-packages (from roboflow) (1.2.0)\n",
      "Requirement already satisfied: colorama in c:\\users\\user\\appdata\\local\\packages\\pythonsoftwarefoundation.python.3.10_qbz5n2kfra8p0\\localcache\\local-packages\\python310\\site-packages (from tqdm>=4.41.0->roboflow) (0.4.6)\n",
      "Requirement already satisfied: contourpy>=1.0.1 in c:\\users\\user\\appdata\\local\\packages\\pythonsoftwarefoundation.python.3.10_qbz5n2kfra8p0\\localcache\\local-packages\\python310\\site-packages (from matplotlib->roboflow) (1.2.1)\n",
      "Requirement already satisfied: fonttools>=4.22.0 in c:\\users\\user\\appdata\\local\\packages\\pythonsoftwarefoundation.python.3.10_qbz5n2kfra8p0\\localcache\\local-packages\\python310\\site-packages (from matplotlib->roboflow) (4.53.0)\n",
      "Requirement already satisfied: packaging>=20.0 in c:\\users\\user\\appdata\\local\\packages\\pythonsoftwarefoundation.python.3.10_qbz5n2kfra8p0\\localcache\\local-packages\\python310\\site-packages (from matplotlib->roboflow) (24.1)\n",
      "Requirement already satisfied: pyparsing>=2.3.1 in c:\\users\\user\\appdata\\local\\packages\\pythonsoftwarefoundation.python.3.10_qbz5n2kfra8p0\\localcache\\local-packages\\python310\\site-packages (from matplotlib->roboflow) (3.1.2)\n",
      "Requirement already satisfied: charset-normalizer<4,>=2 in c:\\users\\user\\appdata\\local\\packages\\pythonsoftwarefoundation.python.3.10_qbz5n2kfra8p0\\localcache\\local-packages\\python310\\site-packages (from requests->roboflow) (3.3.2)\n"
     ]
    },
    {
     "name": "stderr",
     "output_type": "stream",
     "text": [
      "WARNING: Ignoring invalid distribution -penvino-dev (c:\\users\\user\\appdata\\local\\packages\\pythonsoftwarefoundation.python.3.10_qbz5n2kfra8p0\\localcache\\local-packages\\python310\\site-packages)\n",
      "WARNING: Ignoring invalid distribution -penvino-dev (c:\\users\\user\\appdata\\local\\packages\\pythonsoftwarefoundation.python.3.10_qbz5n2kfra8p0\\localcache\\local-packages\\python310\\site-packages)\n",
      "WARNING: Ignoring invalid distribution -penvino-dev (c:\\users\\user\\appdata\\local\\packages\\pythonsoftwarefoundation.python.3.10_qbz5n2kfra8p0\\localcache\\local-packages\\python310\\site-packages)\n",
      "WARNING: Ignoring invalid distribution -penvino-dev (c:\\users\\user\\appdata\\local\\packages\\pythonsoftwarefoundation.python.3.10_qbz5n2kfra8p0\\localcache\\local-packages\\python310\\site-packages)\n"
     ]
    },
    {
     "name": "stdout",
     "output_type": "stream",
     "text": [
      "loading Roboflow workspace...\n",
      "loading Roboflow project...\n"
     ]
    },
    {
     "name": "stderr",
     "output_type": "stream",
     "text": [
      "Downloading Dataset Version Zip in Ball-DEtections-1 to yolov8:: 100%|██████████| 145283/145283 [00:10<00:00, 14108.12it/s]"
     ]
    },
    {
     "name": "stdout",
     "output_type": "stream",
     "text": [
      "\n"
     ]
    },
    {
     "name": "stderr",
     "output_type": "stream",
     "text": [
      "\n",
      "Extracting Dataset Version Zip to Ball-DEtections-1 in yolov8:: 100%|██████████| 5576/5576 [00:03<00:00, 1588.56it/s]\n"
     ]
    }
   ],
   "source": [
    "!pip install roboflow\n",
    "\n",
    "from roboflow import Roboflow\n",
    "rf = Roboflow(api_key = \"eAEMbDJk5dpkuO7P4tpr\")\n",
    "project = rf.workspace().project(\"ball-detections\")\n",
    "dataset = project.version(1).download(\"yolov8\")"
   ]
  },
  {
   "cell_type": "markdown",
   "metadata": {},
   "source": [
    "Train your yolo model\n",
    "********* Before you train, you need to edit the yaml file to set the image path to the system *************** \n",
    "Change the path to your preference "
   ]
  },
  {
   "cell_type": "code",
   "execution_count": null,
   "metadata": {},
   "outputs": [],
   "source": [
    "!yolo task=segment mode=train model=C:/Users/User/Downloads/YOLOsegmentation1.0/data.yaml epochs=20 imgsz=640 device=0"
   ]
  },
  {
   "cell_type": "markdown",
   "metadata": {},
   "source": [
    "After the model done training, just load your model into the live detection code."
   ]
  }
 ],
 "metadata": {
  "kernelspec": {
   "display_name": "Python 3",
   "language": "python",
   "name": "python3"
  },
  "language_info": {
   "codemirror_mode": {
    "name": "ipython",
    "version": 3
   },
   "file_extension": ".py",
   "mimetype": "text/x-python",
   "name": "python",
   "nbconvert_exporter": "python",
   "pygments_lexer": "ipython3",
   "version": "3.10.11"
  }
 },
 "nbformat": 4,
 "nbformat_minor": 2
}
